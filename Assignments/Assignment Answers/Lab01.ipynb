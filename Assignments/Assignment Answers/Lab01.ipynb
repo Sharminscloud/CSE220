{
  "cells": [
    {
      "cell_type": "markdown",
      "source": [
        "#Part: 1 (Array tasks)\n",
        "\n"
      ],
      "metadata": {
        "id": "UUU6P3au0c1u"
      }
    },
    {
      "cell_type": "markdown",
      "metadata": {
        "id": "lJl5kEU9s6VF"
      },
      "source": [
        "**Instructions to Follow (Failing to follow these will result mark penalties).**\n",
        "\n",
        "\n",
        "1.   You can not use any built-in function except len()\n",
        "2.   You can not use any other python collections except array (e.g: tuptle, dictionaries etc.). \n",
        "3. We will initialize a new array using numpy library. We have to mention the fixed size during initialization. There might be two approach.\n",
        "\n",
        "  i. arr = np.array([None] * 10) #Initializing an array length 10 with values None.\n",
        "\n",
        "  ii. arr = np.array([10, 20, 30, 40]) #Initializing an array length 4 with the values.\n",
        "4. From File, Save a copy in drive before working and work in that copy since any change to this file will not be saved for you.\n",
        "\n",
        "\n",
        "\n",
        "\n"
      ]
    },
    {
      "cell_type": "code",
      "execution_count": 57,
      "metadata": {
        "colab": {
          "base_uri": "https://localhost:8080/"
        },
        "id": "nAE3YxgdLMa1",
        "outputId": "3d44a581-61f0-455c-f087-688605d4784e"
      },
      "outputs": [
        {
          "output_type": "stream",
          "name": "stdout",
          "text": [
            "Looking in indexes: https://pypi.org/simple, https://us-python.pkg.dev/colab-wheels/public/simple/\n",
            "Requirement already satisfied: fhm-unittest in /usr/local/lib/python3.10/dist-packages (1.0.1)\n",
            "Looking in indexes: https://pypi.org/simple, https://us-python.pkg.dev/colab-wheels/public/simple/\n",
            "Requirement already satisfied: fuzzywuzzy in /usr/local/lib/python3.10/dist-packages (0.18.0)\n"
          ]
        }
      ],
      "source": [
        "# You must run this cell to install dependency\n",
        "! pip3 install fhm-unittest\n",
        "! pip3 install fuzzywuzzy\n",
        "import fhm_unittest as unittest\n",
        "import numpy as np"
      ]
    },
    {
      "cell_type": "code",
      "execution_count": 58,
      "metadata": {
        "id": "tnfvwKtmypPi"
      },
      "outputs": [],
      "source": [
        "# Complete the functions defined in this cell\n",
        "\n",
        "\n",
        "# Test 01: Play Right\n",
        "def playRight(sequence,beats):\n",
        "  #[10,20,30,40,50,60]\n",
        "  #[1,0,0,1,0,1]\n",
        "  for num in beats:\n",
        "    if num==1:\n",
        "      sequence= rotatetoright(sequence)\n",
        "  return sequence\n",
        "def rotatetoright (array):\n",
        "  savedelement= array[len(array)-1]\n",
        "  for num in range(len(array)-1, 0, -1):\n",
        "    array[num]=array[num-1]\n",
        "  array[0]=savedelement\n",
        "  return array\n",
        "\n",
        "\n",
        "# Test 02: Discard Cards\n",
        "def removenumber(aray, indx):\n",
        "  #[10,2,30,2,50,2,2,0,0]\n",
        "  for num in range(indx, len(aray)-1):\n",
        "    aray[num] = aray[num+1]\n",
        "  aray[len(aray)-1] = 0\n",
        "  return aray\n",
        "def discardCards(cards,number):\n",
        "  countnum = 0\n",
        "  while countnum < len(cards):\n",
        "    if cards[countnum] == number:\n",
        "      removenumber(cards, countnum)\n",
        "    else:\n",
        "      countnum+=1\n",
        "  return cards\n",
        "\n",
        "\n",
        "\n",
        "#Test 03: Merge Lineup\n",
        "def mergeLineup(pokemon_1, pokemon_2):\n",
        "  #[4, 5, -1, None, None]\n",
        "  #[2, 27, 7, 12, None]\n",
        "  savepok= len(pokemon_2) - 1\n",
        "  newpokemonarr = [None]*len(pokemon_1)\n",
        "  for pok in range(len(pokemon_1)):\n",
        "    if pokemon_1[pok] == None:\n",
        "      pokemon_1[pok] = 0\n",
        "    if pokemon_2[savepok] == None:\n",
        "      pokemon_2[savepok] = 0\n",
        "    newpokemonarr[pok] =  pokemon_2[savepok]+pokemon_1[pok]\n",
        "    savepok=savepok-1\n",
        "  return np.array(newpokemonarr)\n",
        "\n",
        "\n",
        "# Test 04: Balance your Salami\n",
        "def balanceSalami(salami):\n",
        "  #[1, 1, 1, 2, 1]\n",
        "  def distribution(addingsalami1, addingsalami2):\n",
        "    salamicount= 0\n",
        "    for tk in range(addingsalami1, addingsalami2):\n",
        "      salamicount += salami[tk]\n",
        "    return salamicount\n",
        "  for tk in range(len(salami)):\n",
        "    if distribution(0, tk) == distribution(tk, len(salami)):\n",
        "      return True\n",
        "  return False\n",
        "\n",
        "\n",
        "# Test 05: Protecc Salami\n",
        "def protectSalami(salami):\n",
        "  #[4,5,6,6,4,3,6,4]\n",
        "  salamicount = 0\n",
        "  for tk in salami:\n",
        "    if tk > salamicount:\n",
        "      salamicount=tk\n",
        "  newsalamiarr = [0]*(salamicount+1)\n",
        "  for tk in salami:\n",
        "    newsalamiarr[tk]+=1\n",
        "  for tk in range(len(newsalamiarr)):\n",
        "    if newsalamiarr[tk] in newsalamiarr[tk+1:] and newsalamiarr[tk]>=2:\n",
        "      return True\n",
        "  return False\n",
        "\n",
        "\n",
        "# Test 05: Odd Even Wave\n",
        "def waveYourFlag(arr):\n",
        "  #[2,12,3,8,1,5]\n",
        "  #[2,3,12,1,8,5]\n",
        "  flag = 1\n",
        "  newaray = arr[0]%2 \n",
        "  while len(arr)-1 > flag:\n",
        "    if newaray == arr[flag]%2: \n",
        "      element = None\n",
        "      for num in range(flag+1, len(arr)):\n",
        "        if arr[num]%2 != newaray:\n",
        "          element = num\n",
        "          break\n",
        "      if element != None:\n",
        "        wave = arr[flag]\n",
        "        arr[flag] = arr[element]\n",
        "        arr[element] = wave\n",
        "    #flag += 1\n",
        "    newaray = arr[flag]%2 \n",
        "    flag += 1\n",
        "  return arr"
      ]
    },
    {
      "cell_type": "code",
      "execution_count": 59,
      "metadata": {
        "colab": {
          "base_uri": "https://localhost:8080/"
        },
        "id": "mrxIQ5rBhzPj",
        "outputId": "6c16429a-c74d-43c2-808f-f8a7f1ce0a15"
      },
      "outputs": [
        {
          "output_type": "stream",
          "name": "stdout",
          "text": [
            "///  Test 01: Play Right  ///\n",
            "Task 1: [40 50 60 10 20 30]\n",
            "Accepted\n",
            "///  Test 02: Discard Cards  ///\n",
            "Task 2: [1 3 8 5 7 0 0 0 0]\n",
            "Accepted\n",
            "///  Test 03: Merge Lineup  ///\n",
            "Task 3: [12  3 28 -8  5]\n",
            "Accepted\n",
            "Task 3: [ 4 17  6 27  2]\n",
            "Accepted\n",
            "Task 3: [4 5 0 2]\n",
            "Accepted\n",
            "///  Test 04: Balance Your Salami  ///\n",
            "Task 4: True\n",
            "Accepted\n",
            "Task 4: False\n",
            "Accepted\n",
            "Task 4: True\n",
            "Accepted\n",
            "///  Test 05: Protecc Salami  ///\n",
            "Task 5: True\n",
            "Accepted\n",
            "Task 5: False\n",
            "Accepted\n",
            "///  Test 06: Odd Even Wave  ///\n",
            "Task 6: [ 2  3 12  1  8  5]\n",
            "Accepted\n",
            "Task 6: [45 78 23 84 41]\n",
            "Accepted\n"
          ]
        }
      ],
      "source": [
        "# This cell is the driver code\n",
        "# Run this cell after completion of above function.\n",
        "# You will see the status Accepted after completion if your code is correct.\n",
        "# If your function is wrong you will see wrong[correction percentage]\n",
        "# This is called unit testing if you are wondering the checking approach\n",
        "# No need to write or change any code here. You can only change the inputs\n",
        "\n",
        "print(\"///  Test 01: Play Right  ///\")\n",
        "sequence=np.array([10,20,30,40,50,60])\n",
        "beats = np.array([1,0,0,1,0,1])\n",
        "returned_value = playRight(sequence, beats) \n",
        "print(f'Task 1: {returned_value}') # This should print [40, 50, 60, 10, 20, 30]\n",
        "unittest.output_test(returned_value, np.array([40, 50, 60, 10, 20, 30]))\n",
        "\n",
        "\n",
        "print(\"///  Test 02: Discard Cards  ///\")\n",
        "cards = np.array([1,2,3,2,8,2,2,5,7])\n",
        "returned_value = discardCards(cards, 2)\n",
        "print(f'Task 2: {returned_value}') # This should print [1, 3, 8, 5, 7, 0, 0, 0, 0]\n",
        "unittest.output_test(returned_value, np.array([1, 3, 8, 5, 7, 0, 0, 0, 0]))\n",
        "\n",
        "\n",
        "print(\"///  Test 03: Merge Lineup  ///\")\n",
        "pokemon_1 = np.array([12, 3, 25, 1, None])\n",
        "pokemon_2 = np.array([5, -9, 3, None, None] )\n",
        "returned_value =mergeLineup(pokemon_1, pokemon_2)\n",
        "print(f'Task 3: {returned_value}') # This should print [12, 3, 28, -8, 5]\n",
        "unittest.output_test(returned_value, np.array([12, 3, 28, -8, 5]))\n",
        "\n",
        "pokemon_1 = np.array([4, 5, -1, None, None])\n",
        "pokemon_2 = np.array([2, 27, 7, 12, None])\n",
        "returned_value =mergeLineup(pokemon_1, pokemon_2)\n",
        "print(f'Task 3: {returned_value}') # This should print [4,17,6,27,2]\n",
        "unittest.output_test(returned_value, np.array([4,17,6,27,2]))\n",
        "\n",
        "pokemon_1 = np.array([4, 5, None, None])\n",
        "pokemon_2 = np.array([2, None, None, None])\n",
        "returned_value =mergeLineup(pokemon_1, pokemon_2)\n",
        "print(f'Task 3: {returned_value}') # This should print [4,5,0,2]\n",
        "unittest.output_test(returned_value, np.array([4,5,0,2]))\n",
        "\n",
        "\n",
        "print(\"///  Test 04: Balance Your Salami  ///\")\n",
        "salami = np.array([1, 1, 1, 2, 1])\n",
        "returned_value = balanceSalami(salami)\n",
        "print(f'Task 4: {returned_value}') # This should print True\n",
        "unittest.output_test(returned_value, True)\n",
        "\n",
        "salami = [2, 1, 1, 2, 1]\n",
        "returned_value = np.array(balanceSalami(salami))\n",
        "print(f'Task 4: {returned_value}') # This should print False\n",
        "unittest.output_test(returned_value, False)\n",
        "\n",
        "salami = [10, 3, 1, 2, 10] \n",
        "returned_value =  np.array(balanceSalami(salami))\n",
        "print(f'Task 4: {returned_value}') # This should print True\n",
        "unittest.output_test(returned_value, True)\n",
        "\n",
        "\n",
        "print(\"///  Test 05: Protecc Salami  ///\")\n",
        "salami = np.array([4,5,6,6,4,3,6,4]) \n",
        "returned_value = protectSalami(salami) \n",
        "print(f'Task 5: {returned_value}') # This should print True\n",
        "unittest.output_test(returned_value, True)\n",
        "\n",
        "salami = np.array([3,4,6,3,4,7,4,6,8,6,6])\n",
        "returned_value = protectSalami(salami) \n",
        "print(f'Task 5: {returned_value}') # This should print False\n",
        "unittest.output_test(returned_value, False)\n",
        "\n",
        "\n",
        "print(\"///  Test 06: Odd Even Wave  ///\")\n",
        "arr = np.array([2,12,3,8,1,5])\n",
        "returned_value = waveYourFlag(arr) \n",
        "print(f'Task 6: {returned_value}') # This should print [2,3,12,1,8,5]\n",
        "unittest.output_test(returned_value, np.array([2,3,12,1,8,5]))\n",
        "\n",
        "arr = np.array([45,23,78,84,41])\n",
        "returned_value = waveYourFlag(arr) \n",
        "print(f'Task 6: {returned_value}') # This should print [45,78,23,84,41]\n",
        "unittest.output_test(returned_value, np.array([45,78,23,84,41]))"
      ]
    },
    {
      "cell_type": "markdown",
      "source": [
        "#Part: 2 (Playing with Array and Probability Theory)"
      ],
      "metadata": {
        "id": "D5AB42Qa1I3L"
      }
    },
    {
      "cell_type": "code",
      "source": [
        "def mean_calculation(arr):\n",
        "  countmean = 0\n",
        "  for num in range(len(arr)):\n",
        "    countmean+=arr[num]\n",
        "  mean = countmean/len(arr)\n",
        "  return mean\n",
        "\n",
        "def standard_deviation_calculation(arr):\n",
        "  meaner = mean_calculation(arr)\n",
        "  countsd = 0\n",
        "  for num in range(len(arr)):\n",
        "    countsd += (arr[num] - meaner)**2\n",
        "  standard_dev = np.sqrt(countsd/(len(arr)-1))\n",
        "  return float(\"{0:.2f}\".format(standard_dev))\n",
        "\n",
        "def mean_array(arr):\n",
        "  meanmax = mean_calculation(arr) + standard_deviation_calculation(arr)*1.5\n",
        "  meanmin = mean_calculation(arr) - standard_deviation_calculation(arr)*1.5\n",
        "  findmean = 0\n",
        "  for num in range(len(arr)):\n",
        "    if arr[num]<meanmin or  arr[num]>meanmax:\n",
        "      findmean += 1\n",
        "  newmeanarr = [0]*findmean\n",
        "  notmean = 0\n",
        "  for num in range(len(arr)):\n",
        "    if arr[num]<meanmin or arr[num]>meanmax :\n",
        "      newmeanarr[notmean] = arr[num]\n",
        "      notmean += 1\n",
        "  if len(newmeanarr)!=0:\n",
        "    return newmeanarr\n",
        "  return None\n",
        "\n",
        "arr = np.array([10, 8, 13, 9, 14, 25, -5, 20, 7, 7, 4]) \n",
        "print('The mean of the numbers is: ',mean_calculation(arr))\n",
        "print('The standard deviation is: ',standard_deviation_calculation(arr))\n",
        "print('New array: ',mean_array(arr))"
      ],
      "metadata": {
        "colab": {
          "base_uri": "https://localhost:8080/"
        },
        "id": "iNjFgsJ21O42",
        "outputId": "0a59660b-cb87-49eb-b87c-fdeecc0151d1"
      },
      "execution_count": 60,
      "outputs": [
        {
          "output_type": "stream",
          "name": "stdout",
          "text": [
            "The mean of the numbers is:  10.181818181818182\n",
            "The standard deviation is:  7.96\n",
            "New array:  [25, -5]\n"
          ]
        }
      ]
    }
  ],
  "metadata": {
    "colab": {
      "provenance": []
    },
    "kernelspec": {
      "display_name": "Python 3",
      "name": "python3"
    },
    "language_info": {
      "name": "python"
    }
  },
  "nbformat": 4,
  "nbformat_minor": 0
}