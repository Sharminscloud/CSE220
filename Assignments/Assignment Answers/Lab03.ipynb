{
  "nbformat": 4,
  "nbformat_minor": 0,
  "metadata": {
    "colab": {
      "provenance": []
    },
    "kernelspec": {
      "name": "python3",
      "display_name": "Python 3"
    },
    "language_info": {
      "name": "python"
    }
  },
  "cells": [
    {
      "cell_type": "markdown",
      "source": [
        "***You must run this cell to install dependency***"
      ],
      "metadata": {
        "id": "NiUM_IVAgFmb"
      }
    },
    {
      "cell_type": "code",
      "source": [
        "# You must run this cell to install dependency\n",
        "! pip3 install fhm-unittest\n",
        "! pip3 install fuzzywuzzy\n",
        "import fhm_unittest as unittest\n",
        "import numpy as np"
      ],
      "metadata": {
        "id": "zES7ud9gf695",
        "colab": {
          "base_uri": "https://localhost:8080/"
        },
        "outputId": "c9ded3ee-6ff3-48d4-d0ab-86ca8391100c"
      },
      "execution_count": 94,
      "outputs": [
        {
          "output_type": "stream",
          "name": "stdout",
          "text": [
            "Looking in indexes: https://pypi.org/simple, https://us-python.pkg.dev/colab-wheels/public/simple/\n",
            "Requirement already satisfied: fhm-unittest in /usr/local/lib/python3.10/dist-packages (1.0.1)\n",
            "Looking in indexes: https://pypi.org/simple, https://us-python.pkg.dev/colab-wheels/public/simple/\n",
            "Requirement already satisfied: fuzzywuzzy in /usr/local/lib/python3.10/dist-packages (0.18.0)\n"
          ]
        }
      ]
    },
    {
      "cell_type": "markdown",
      "source": [
        " ***You must Run this cell for your driver code to execute successfully***"
      ],
      "metadata": {
        "id": "fdEbakalfuRC"
      }
    },
    {
      "cell_type": "code",
      "execution_count": 95,
      "metadata": {
        "id": "mxEckgR4fqt8"
      },
      "outputs": [],
      "source": [
        "#Run this cell\n",
        "class Node:\n",
        "  def __init__(self,elem,next = None):\n",
        "    self.elem,self.next = elem,next\n",
        "\n",
        "def createList(arr):\n",
        "  head = Node(arr[0])\n",
        "  tail = head\n",
        "  for i in range(1,len(arr)):\n",
        "    newNode = Node(arr[i])\n",
        "    tail.next = newNode\n",
        "    tail = newNode\n",
        "  return head\n",
        "\n",
        "def printLinkedList(head):\n",
        "  temp = head\n",
        "  while temp != None:\n",
        "    if temp.next != None:\n",
        "      print(temp.elem, end = '-->')\n",
        "    else:\n",
        "      print(temp.elem)\n",
        "    temp = temp.next\n",
        "  print()\n"
      ]
    },
    {
      "cell_type": "markdown",
      "source": [
        "Assemble Conga Line"
      ],
      "metadata": {
        "id": "Clj0DClwgJZK"
      }
    },
    {
      "cell_type": "code",
      "source": [
        "def conga_line(head):\n",
        "  start = head\n",
        "  stackstat = True\n",
        "  while start!= None:\n",
        "    if start.next == None: #breaks if none\n",
        "      break\n",
        "    if start.next.elem < start.elem:\n",
        "      stackstat = False\n",
        "      # return False\n",
        "    # else:\n",
        "      # return True\n",
        "    start = start.next\n",
        "  return stackstat\n",
        "\n",
        "head = createList(np.array([10,15,34,41,56,72]))\n",
        "print('Original Conga Line: ', end = ' ')\n",
        "printLinkedList(head)\n",
        "returned_value = conga_line(head)\n",
        "print(returned_value) #This should print True\n",
        "unittest.output_test(returned_value, True)\n",
        "print()\n",
        "\n",
        "head = createList(np.array([10,15,44,41,56,72]))\n",
        "print('Original Conga Line: ', end = ' ')\n",
        "printLinkedList(head)\n",
        "returned_value = conga_line(head)\n",
        "print(returned_value) #This should print False\n",
        "unittest.output_test(returned_value, False)\n",
        "print()\n",
        "\n",
        "\n"
      ],
      "metadata": {
        "id": "H4BQrUJn9XLs",
        "colab": {
          "base_uri": "https://localhost:8080/"
        },
        "outputId": "a6ed7cae-57af-42f4-cb62-51f93a7ad900"
      },
      "execution_count": 96,
      "outputs": [
        {
          "output_type": "stream",
          "name": "stdout",
          "text": [
            "Original Conga Line:  10-->15-->34-->41-->56-->72\n",
            "\n",
            "True\n",
            "Accepted\n",
            "\n",
            "Original Conga Line:  10-->15-->44-->41-->56-->72\n",
            "\n",
            "False\n",
            "Accepted\n",
            "\n"
          ]
        }
      ]
    },
    {
      "cell_type": "markdown",
      "source": [
        "Remove Compartment"
      ],
      "metadata": {
        "id": "V9rtJF9VPAtd"
      }
    },
    {
      "cell_type": "code",
      "source": [
        "def remove_compartment(head,n):\n",
        "  start = head\n",
        "  count = 1\n",
        "\n",
        "  while start.next != None:\n",
        "    count+=1\n",
        "    start = start.next\n",
        "  if n <= 0 :\n",
        "    return head\n",
        "  if n > count :\n",
        "    return head\n",
        "  if count == n: #this will proceed\n",
        "    return head.next\n",
        "  start = head\n",
        "  for num in range(count - n -1): #reverse\n",
        "    start = start.next\n",
        "  start.next = start.next.next\n",
        "  return head\n",
        "\n",
        "\n",
        "\n",
        "\n",
        "head = createList(np.array([10,15,34,41,56,72]))\n",
        "print('Original Compartment Sequence: ', end = ' ')\n",
        "printLinkedList(head)\n",
        "head = remove_compartment(head,2)\n",
        "print('Changed Compartment Sequence: ', end = ' ')\n",
        "printLinkedList(head) #This should print 10-->15-->34-->41-->72\n",
        "print()\n",
        "\n",
        "head = createList(np.array([10,15,34,41,56,72]))\n",
        "print('Original Compartment Sequence: ', end = ' ')\n",
        "printLinkedList(head)\n",
        "head = remove_compartment(head,7)\n",
        "print('Changed Compartment Sequence: ', end = ' ')\n",
        "printLinkedList(head) #This should print 10-->15-->34-->41-->56-->72\n",
        "print()\n",
        "\n",
        "head = createList(np.array([10,15,34,41,56,72]))\n",
        "print('Original Compartment Sequence: ', end = ' ')\n",
        "printLinkedList(head)\n",
        "head = remove_compartment(head,6)\n",
        "print('Changed Compartment Sequence: ', end = ' ')\n",
        "printLinkedList(head) #This should print 15-->34-->41-->56-->72\n",
        "print()"
      ],
      "metadata": {
        "id": "xttcJVbJ9id1",
        "colab": {
          "base_uri": "https://localhost:8080/"
        },
        "outputId": "be511b47-138b-4598-c875-a1be7ec1580b"
      },
      "execution_count": 97,
      "outputs": [
        {
          "output_type": "stream",
          "name": "stdout",
          "text": [
            "Original Compartment Sequence:  10-->15-->34-->41-->56-->72\n",
            "\n",
            "Changed Compartment Sequence:  10-->15-->34-->41-->72\n",
            "\n",
            "\n",
            "Original Compartment Sequence:  10-->15-->34-->41-->56-->72\n",
            "\n",
            "Changed Compartment Sequence:  10-->15-->34-->41-->56-->72\n",
            "\n",
            "\n",
            "Original Compartment Sequence:  10-->15-->34-->41-->56-->72\n",
            "\n",
            "Changed Compartment Sequence:  15-->34-->41-->56-->72\n",
            "\n",
            "\n"
          ]
        }
      ]
    },
    {
      "cell_type": "markdown",
      "source": [
        "Shuffle on index"
      ],
      "metadata": {
        "id": "hiH6KfWC8p9E"
      }
    },
    {
      "cell_type": "code",
      "source": [
        "def shuffle_on_index(head):\n",
        "  start= head\n",
        "  newhead= None\n",
        "  newtail= None\n",
        "  count= 0\n",
        "  while start != None: #even part\n",
        "    newnode= Node(start.elem, None)\n",
        "    if count %2==0:\n",
        "      if newhead == None:\n",
        "        newhead= newnode\n",
        "        newtail= newnode\n",
        "      else:\n",
        "        newtail.next = newnode\n",
        "        newtail = newnode\n",
        "    count += 1\n",
        "    start= start.next\n",
        "  start= head #odd part\n",
        "  start= start.next\n",
        "  count= 0\n",
        "  dummyh= None\n",
        "  dummyt= None\n",
        "  while start != None:\n",
        "    newnod= Node(start.elem, None)\n",
        "    if count %2==0:\n",
        "      if dummyh == None:\n",
        "        dummyt= newnod\n",
        "        dummyh= newnod\n",
        "      else:\n",
        "        dummyt.next= newnod\n",
        "        dummyt= newnod\n",
        "    count += 1\n",
        "    start= start.next\n",
        "  newtail.next= dummyh #linking\n",
        "  return newhead\n",
        "\n",
        "\n",
        "head = createList(np.array(['S','E','N','P','A','I']))\n",
        "print('Original Play List: ', end = ' ')\n",
        "printLinkedList(head)\n",
        "newhead =  shuffle_on_index(head)\n",
        "print('New Play List: ', end = ' ')\n",
        "printLinkedList(newhead) #This should print S-->N-->A-->E-->P-->I\n",
        "print()\n",
        "\n",
        "head = createList(np.array(['N','I','S','H','I','N','O','Y','A']))\n",
        "print('Original Play List: ', end = ' ')\n",
        "printLinkedList(head)\n",
        "newhead =  shuffle_on_index(head)\n",
        "print('New Play List: ', end = ' ')\n",
        "printLinkedList(newhead) #This should print N-->S-->I-->O-->A-->I-->H-->N-->Y\n",
        "print()\n"
      ],
      "metadata": {
        "id": "-AQh4Ka1PGQ4",
        "colab": {
          "base_uri": "https://localhost:8080/"
        },
        "outputId": "0e07b2de-7826-4b87-fc41-db8a20ecaac9"
      },
      "execution_count": 98,
      "outputs": [
        {
          "output_type": "stream",
          "name": "stdout",
          "text": [
            "Original Play List:  S-->E-->N-->P-->A-->I\n",
            "\n",
            "New Play List:  S-->N-->A-->E-->P-->I\n",
            "\n",
            "\n",
            "Original Play List:  N-->I-->S-->H-->I-->N-->O-->Y-->A\n",
            "\n",
            "New Play List:  N-->S-->I-->O-->A-->I-->H-->N-->Y\n",
            "\n",
            "\n"
          ]
        }
      ]
    },
    {
      "cell_type": "markdown",
      "source": [
        "Scavenger hunt"
      ],
      "metadata": {
        "id": "hoDltlzi-GJD"
      }
    },
    {
      "cell_type": "code",
      "source": [
        "def find_next_clue(head):\n",
        "\n",
        "  while head.next != None:\n",
        "    nhead= head.next\n",
        "    if nhead.next == None: #nhead.next=head.next.next\n",
        "      if head.elem < nhead.elem:\n",
        "        print(nhead.elem, \"is greater than\", head.elem)\n",
        "        head = head.next\n",
        "        continue\n",
        "    while nhead.next != None:\n",
        "      if head.elem < nhead.elem :\n",
        "        print(nhead.elem, \"is greater than\", head.elem)\n",
        "        head = head.next\n",
        "        break\n",
        "      nhead = nhead.next\n",
        "    if head.elem < nhead.elem:\n",
        "        print(nhead.elem, \"is greater than\", head.elem)\n",
        "        head = head.next\n",
        "        continue\n",
        "    print('No next element greater than', head.elem)\n",
        "    head = head.next\n",
        "  print(f'No next element greater than', head.elem)\n",
        "\n",
        "\n",
        "head = createList(np.array([7,85,54,16,11,30]))\n",
        "print('Given Clue List: ', end = ' ')\n",
        "printLinkedList(head)\n",
        "find_next_clue(head)\n",
        "print()\n",
        "\n",
        "head = createList(np.array([20,13,33,12]))\n",
        "print('Given Clue List: ', end = ' ')\n",
        "printLinkedList(head)\n",
        "find_next_clue(head)\n",
        "print()"
      ],
      "metadata": {
        "id": "FbGrR6QI9Hjv",
        "colab": {
          "base_uri": "https://localhost:8080/"
        },
        "outputId": "d8a40559-ccb1-420c-a3bd-2789eb5707bd"
      },
      "execution_count": 99,
      "outputs": [
        {
          "output_type": "stream",
          "name": "stdout",
          "text": [
            "Given Clue List:  7-->85-->54-->16-->11-->30\n",
            "\n",
            "85 is greater than 7\n",
            "No next element greater than 85\n",
            "No next element greater than 54\n",
            "30 is greater than 16\n",
            "30 is greater than 11\n",
            "No next element greater than 30\n",
            "\n",
            "Given Clue List:  20-->13-->33-->12\n",
            "\n",
            "33 is greater than 20\n",
            "33 is greater than 13\n",
            "No next element greater than 33\n",
            "No next element greater than 12\n",
            "\n"
          ]
        }
      ]
    }
  ]
}