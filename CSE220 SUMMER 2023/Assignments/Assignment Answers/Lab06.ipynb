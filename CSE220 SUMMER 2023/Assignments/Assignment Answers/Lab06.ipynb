{
  "nbformat": 4,
  "nbformat_minor": 0,
  "metadata": {
    "colab": {
      "provenance": []
    },
    "kernelspec": {
      "name": "python3",
      "display_name": "Python 3"
    },
    "language_info": {
      "name": "python"
    }
  },
  "cells": [
    {
      "cell_type": "markdown",
      "source": [
        "##1) a. Implement a recursive algorithm to find factorial of n."
      ],
      "metadata": {
        "id": "44MaVFPEAFHI"
      }
    },
    {
      "cell_type": "code",
      "execution_count": 43,
      "metadata": {
        "colab": {
          "base_uri": "https://localhost:8080/"
        },
        "id": "Plvsnbq8_4gY",
        "outputId": "4f6fe1fc-93b9-40f4-9ff8-901eb197a532"
      },
      "outputs": [
        {
          "output_type": "execute_result",
          "data": {
            "text/plain": [
              "120"
            ]
          },
          "metadata": {},
          "execution_count": 43
        }
      ],
      "source": [
        "def fact(num):\n",
        "  if num == 0:\n",
        "    return 0\n",
        "  elif num == 1:\n",
        "    return 1\n",
        "  else:\n",
        "    return num*fact(num-1)\n",
        "fact(5)"
      ]
    },
    {
      "cell_type": "markdown",
      "source": [
        "#1) b. Implement a recursive algorithm to find the n-th Fibonacci number."
      ],
      "metadata": {
        "id": "RhTGM2tWAfie"
      }
    },
    {
      "cell_type": "code",
      "source": [
        "def fibonacci(n):\n",
        "  if n<0:\n",
        "    return 'Invalid'\n",
        "  elif n==0:\n",
        "    return 0\n",
        "  elif n==1:\n",
        "    return 1\n",
        "  else:\n",
        "    return fibonacci(n-1)+fibonacci(n-2)\n",
        "\n",
        "fibonacci(10)"
      ],
      "metadata": {
        "colab": {
          "base_uri": "https://localhost:8080/"
        },
        "id": "sQJBdIAIAfBu",
        "outputId": "cab494a3-e2e9-4732-bd86-3c511300c878"
      },
      "execution_count": 44,
      "outputs": [
        {
          "output_type": "execute_result",
          "data": {
            "text/plain": [
              "55"
            ]
          },
          "metadata": {},
          "execution_count": 44
        }
      ]
    },
    {
      "cell_type": "markdown",
      "source": [
        "#1) c. Print all the elements of a given array recursively."
      ],
      "metadata": {
        "id": "dDe7sr-sBEoL"
      }
    },
    {
      "cell_type": "code",
      "source": [
        "def recur(a, i, n):\n",
        "  if i == n:\n",
        "    return\n",
        "  else:\n",
        "    print(a[i])\n",
        "    return recur(a, i+1, n)\n",
        "\n",
        "recur([1,2,3,4,5], 0, 4)"
      ],
      "metadata": {
        "colab": {
          "base_uri": "https://localhost:8080/"
        },
        "id": "41ZYSN89BDb5",
        "outputId": "ec8202cd-2136-491d-f30e-3559547deb4b"
      },
      "execution_count": 45,
      "outputs": [
        {
          "output_type": "stream",
          "name": "stdout",
          "text": [
            "1\n",
            "2\n",
            "3\n",
            "4\n"
          ]
        }
      ]
    },
    {
      "cell_type": "markdown",
      "source": [
        "##1) d. Given base and n that are both 1 or more, compute recursively (no loops) the value of base  to the n power, so powerN(3, 2) is 9 (3 squared).\n",
        "powerN(3, 1) → 3\n"
      ],
      "metadata": {
        "id": "BAwI5rx5CKFq"
      }
    },
    {
      "cell_type": "code",
      "source": [
        "def power(m, n):\n",
        "  if n==0:\n",
        "    return 1\n",
        "  elif n==1:\n",
        "    return m\n",
        "  else:\n",
        "    return m*power(m, n-1)\n",
        "\n",
        "power(2, 5)"
      ],
      "metadata": {
        "colab": {
          "base_uri": "https://localhost:8080/"
        },
        "id": "U9ipXZnWCfpC",
        "outputId": "e5919f52-2f6b-4d9e-bd91-2bb861127d48"
      },
      "execution_count": 46,
      "outputs": [
        {
          "output_type": "execute_result",
          "data": {
            "text/plain": [
              "32"
            ]
          },
          "metadata": {},
          "execution_count": 46
        }
      ]
    },
    {
      "cell_type": "markdown",
      "source": [
        "#2) a. Implement a recursive algorithm that takes a decimal number n and converts n to its corresponding (you may return as a string) binary number.\n"
      ],
      "metadata": {
        "id": "RFlwFmE2B50Q"
      }
    },
    {
      "cell_type": "code",
      "source": [
        "def binary(n):\n",
        "  if n!=0:\n",
        "    return binary(n//2)+str(n%2)\n",
        "  else:\n",
        "    return ''\n",
        "\n",
        "binary(10)"
      ],
      "metadata": {
        "colab": {
          "base_uri": "https://localhost:8080/",
          "height": 35
        },
        "id": "bR4CRYPfC-o6",
        "outputId": "ec97879e-abe2-4662-8d3a-36512882a939"
      },
      "execution_count": 47,
      "outputs": [
        {
          "output_type": "execute_result",
          "data": {
            "text/plain": [
              "'1010'"
            ],
            "application/vnd.google.colaboratory.intrinsic+json": {
              "type": "string"
            }
          },
          "metadata": {},
          "execution_count": 47
        }
      ]
    },
    {
      "cell_type": "markdown",
      "source": [
        "###2) b. Implement a recursive algorithm to add all the elements of a non-dummy headed singly linked linear list. Only head of the list will be given as parameter where you may assume every node can contain only integer as its element. Note: you’ll need a Singly Node class for this code.\n"
      ],
      "metadata": {
        "id": "J6apHcapEJFH"
      }
    },
    {
      "cell_type": "code",
      "source": [
        "class Node:\n",
        "  def __init__(self, value, next_node):\n",
        "      self.value = value\n",
        "      self.next = next_node\n",
        "\n",
        "def create_linked_list(array):\n",
        "  head = Node(array[0], None)\n",
        "  current = head\n",
        "  for i in range(1, len(array)):\n",
        "      new_node = Node(array[i], None)\n",
        "      current.next = new_node\n",
        "      current = new_node\n",
        "  return head\n",
        "\n",
        "def calculate_sum(node):\n",
        "  current = node\n",
        "  total_sum = 0\n",
        "  if current is not None:\n",
        "      if current.next is not None:\n",
        "          total_sum += current.value\n",
        "          return total_sum + calculate_sum(current.next)\n",
        "      else:\n",
        "          return current.value\n",
        "\n",
        "input_array = [1, 3, 5, 5]\n",
        "head_node = create_linked_list(input_array)\n",
        "print(calculate_sum(head_node))"
      ],
      "metadata": {
        "colab": {
          "base_uri": "https://localhost:8080/"
        },
        "id": "JHUr26VPEIRZ",
        "outputId": "257ed3f0-9184-4c04-9de7-cd825ec0e059"
      },
      "execution_count": 48,
      "outputs": [
        {
          "output_type": "stream",
          "name": "stdout",
          "text": [
            "14\n"
          ]
        }
      ]
    },
    {
      "cell_type": "markdown",
      "source": [
        "#2) c. Implement a recursive algorithm which will print all the elements of a non-dummy headed singly linked linear list in reversed order."
      ],
      "metadata": {
        "id": "0VSKnT_9EU0Z"
      }
    },
    {
      "cell_type": "code",
      "source": [
        "def print_reverse_recursive(current_node):\n",
        "  temp = current_node\n",
        "  if temp.next is None:\n",
        "      print(temp.value)\n",
        "  else:\n",
        "      print_reverse_recursive(temp.next)\n",
        "      print(temp.value)\n",
        "\n",
        "input_array = [10, 20, 30, 40]\n",
        "head_node = create_linked_list(input_array)\n",
        "print_reverse_recursive(head_node)"
      ],
      "metadata": {
        "colab": {
          "base_uri": "https://localhost:8080/"
        },
        "id": "ckIUeCYLEmOM",
        "outputId": "7b52e57c-043d-423e-e3e0-9bbcb97b954a"
      },
      "execution_count": 49,
      "outputs": [
        {
          "output_type": "stream",
          "name": "stdout",
          "text": [
            "40\n",
            "30\n",
            "20\n",
            "10\n"
          ]
        }
      ]
    },
    {
      "cell_type": "markdown",
      "source": [
        "#3) Complete the recursive method below to calculate the number of cards required to build  a ‘house of cards’ of specific height given by the parameter.\n"
      ],
      "metadata": {
        "id": "o_vE0E_aEuy4"
      }
    },
    {
      "cell_type": "code",
      "source": [
        "def hocBuilder(height):\n",
        "  if height>0:\n",
        "    if height==1:\n",
        "      return 8\n",
        "    else:\n",
        "      return hocBuilder(height-1)+5\n",
        "  else:\n",
        "    return 0\n",
        "\n",
        "print(hocBuilder(2))"
      ],
      "metadata": {
        "colab": {
          "base_uri": "https://localhost:8080/"
        },
        "id": "rTu_X5_FEzkE",
        "outputId": "a45323fd-83b6-4c1c-a721-251711ac9d5e"
      },
      "execution_count": 50,
      "outputs": [
        {
          "output_type": "stream",
          "name": "stdout",
          "text": [
            "13\n"
          ]
        }
      ]
    },
    {
      "cell_type": "markdown",
      "source": [
        "#4) a. Print the following pattern for the given input (you must use recursion)"
      ],
      "metadata": {
        "id": "Div1uk6gEz6y"
      }
    },
    {
      "cell_type": "code",
      "source": [
        "def print_count_up(number):\n",
        "  if number > 0:\n",
        "      print_count_up(number - 1)\n",
        "      print(number, end='')\n",
        "\n",
        "\n",
        "def print_pattern_recursive(number):\n",
        "  if number > 0:\n",
        "      print_pattern_recursive(number - 1)\n",
        "  print_count_up(number)\n",
        "  if number != 0:\n",
        "      print()\n",
        "\n",
        "pattern_number = 3\n",
        "print_pattern_recursive(pattern_number)"
      ],
      "metadata": {
        "colab": {
          "base_uri": "https://localhost:8080/"
        },
        "id": "pnsFy4vvE7ph",
        "outputId": "bb04e225-9d4d-4d59-c8a4-29750d8c657f"
      },
      "execution_count": 51,
      "outputs": [
        {
          "output_type": "stream",
          "name": "stdout",
          "text": [
            "1\n",
            "12\n",
            "123\n"
          ]
        }
      ]
    },
    {
      "cell_type": "markdown",
      "source": [
        "#4) b. Print the following pattern for the given input (you must use recursion)"
      ],
      "metadata": {
        "id": "K0oKpGdaE7wi"
      }
    },
    {
      "cell_type": "code",
      "source": [
        "def print_spaces(number):\n",
        "  if number > 0:\n",
        "      print(' ', end='')\n",
        "      print_spaces(number - 1)\n",
        "\n",
        "def print_numbers(number):\n",
        "  if number > 0:\n",
        "      print_numbers(number - 1)\n",
        "      print(number, end='')\n",
        "\n",
        "def print_pattern_with_spaces(rows, total_columns):\n",
        "  if rows > 0:\n",
        "      print_spaces(rows - 1)\n",
        "      print_numbers(total_columns - rows + 1)\n",
        "      print()\n",
        "      print_pattern_with_spaces(rows - 1, total_columns)\n",
        "\n",
        "total_rows = 5\n",
        "print_pattern_with_spaces(total_rows, total_rows)"
      ],
      "metadata": {
        "colab": {
          "base_uri": "https://localhost:8080/"
        },
        "id": "cwlQ2N0mFB9N",
        "outputId": "62dda575-12ac-4865-9506-55d80e27a40a"
      },
      "execution_count": 52,
      "outputs": [
        {
          "output_type": "stream",
          "name": "stdout",
          "text": [
            "    1\n",
            "   12\n",
            "  123\n",
            " 1234\n",
            "12345\n"
          ]
        }
      ]
    },
    {
      "cell_type": "markdown",
      "source": [
        "###5) (VERY HARD) Complete the RECURSIVE methods below that take an array of integers (investments)  and an iterator (always sets to ZERO(‘0’) when the method is initially called) and prints  the profit for the corresponding investment. You must avoid loop and multiplication (‘*’)  operator.\n"
      ],
      "metadata": {
        "id": "Q_lt3r4mFCCI"
      }
    },
    {
      "cell_type": "code",
      "source": [
        "class FinalQ:\n",
        "  def print(self,array,idx):\n",
        "     if (idx<len(array)):\n",
        "       profit = self.calcProfit(array[idx])\n",
        "       print(f'Total Invested: {array[idx]}\\nProfit: {profit}')\n",
        "       self.print(array,idx+1)\n",
        "\n",
        "  def calcProfit(self,investment):\n",
        "    if 0<=investment<=25000:\n",
        "      return 0.0\n",
        "    elif 25000 <investment <= 100000:\n",
        "      return 45 + self.calcProfit(investment-1000)\n",
        "    elif investment> 100000:\n",
        "      return 80 + self.calcProfit(investment - 1000)\n",
        "\n",
        "array=[25000, 100000,250000,350000]\n",
        "f = FinalQ()\n",
        "f.print(array,0)"
      ],
      "metadata": {
        "colab": {
          "base_uri": "https://localhost:8080/"
        },
        "id": "_nmweR46FMYW",
        "outputId": "16c809f9-6971-4448-f2fb-78339accced0"
      },
      "execution_count": 53,
      "outputs": [
        {
          "output_type": "stream",
          "name": "stdout",
          "text": [
            "Total Invested: 25000\n",
            "Profit: 0.0\n",
            "Total Invested: 100000\n",
            "Profit: 3375.0\n",
            "Total Invested: 250000\n",
            "Profit: 15375.0\n",
            "Total Invested: 350000\n",
            "Profit: 23375.0\n"
          ]
        }
      ]
    },
    {
      "cell_type": "markdown",
      "source": [
        "#MUST FINISH RECURSION TASK"
      ],
      "metadata": {
        "id": "JfqhbKUwJ_4o"
      }
    },
    {
      "cell_type": "code",
      "source": [
        "def flatten_list(given_list, output_list):\n",
        "  if type(given_list)==list:\n",
        "      for i in given_list:\n",
        "          flatten_list(i, output_list)\n",
        "  else:\n",
        "      output_list.append(given_list)\n",
        "  return output_list\n",
        "\n",
        "given_list=[1, [2, [3, [4], 5], 6], 7, 8, [9, [[10, 11], 12], 13], 14, [15, [16, [17]]]]\n",
        "output_list=[]\n",
        "print(f'output_list= {flatten_list(given_list,output_list)}')\n",
        "#output_list = [1, 2, 3, 4, 5, 6, 7, 8, 9, 10, 11, 12, 13, 14, 15, 16, 17]"
      ],
      "metadata": {
        "colab": {
          "base_uri": "https://localhost:8080/"
        },
        "id": "6FnmEh7gJzUO",
        "outputId": "6cd46a4b-0f53-4ea8-9d1e-9589a0d3307c"
      },
      "execution_count": 54,
      "outputs": [
        {
          "output_type": "stream",
          "name": "stdout",
          "text": [
            "output_list= [1, 2, 3, 4, 5, 6, 7, 8, 9, 10, 11, 12, 13, 14, 15, 16, 17]\n"
          ]
        }
      ]
    },
    {
      "cell_type": "markdown",
      "source": [
        "#ungraded: Singly link list"
      ],
      "metadata": {
        "id": "RKLZoBFjPpMb"
      }
    },
    {
      "cell_type": "code",
      "source": [
        "class Node:\n",
        "  def __init__(self, e, n=None, b=None):\n",
        "      self.element = e\n",
        "      self.next = n\n",
        "      self.bottom = b\n",
        "\n",
        "class LinkedList:\n",
        "  def __init__(self, a):\n",
        "      self.head = None\n",
        "      tail = None\n",
        "      for i in range(len(a)):\n",
        "          if isinstance(a[i], list):\n",
        "              n = Node(None, None, LinkedList(a[i]).head)\n",
        "          else:\n",
        "              n = Node(a[i])\n",
        "          if self.head == None:\n",
        "              self.head = n\n",
        "              tail = n\n",
        "          else:\n",
        "              tail.next = n\n",
        "              tail = n\n",
        "\n",
        "def flattenLL(head):\n",
        "  if head==None:\n",
        "      return\n",
        "  else:\n",
        "      if head.bottom!=None:\n",
        "          flattenLL(head.bottom)\n",
        "      else:\n",
        "          print(head.element,end=\" \")\n",
        "      flattenLL(head.next)\n",
        "\n",
        "a=[1,[2,3],4,[5,[6,7]],8]\n",
        "b=LinkedList(a)\n",
        "flattenLL(b.head)"
      ],
      "metadata": {
        "colab": {
          "base_uri": "https://localhost:8080/"
        },
        "id": "mGGbRNXhLc7N",
        "outputId": "2bc7d92b-cc13-47c6-ba69-8649685d7c3e"
      },
      "execution_count": 55,
      "outputs": [
        {
          "output_type": "stream",
          "name": "stdout",
          "text": [
            "1 2 3 4 5 6 7 8 "
          ]
        }
      ]
    }
  ]
}